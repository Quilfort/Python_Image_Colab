{
  "nbformat": 4,
  "nbformat_minor": 0,
  "metadata": {
    "colab": {
      "provenance": [],
      "gpuType": "T4",
      "authorship_tag": "ABX9TyOK9YRH7kBRIShjvxoEdoSt"
    },
    "kernelspec": {
      "name": "python3",
      "display_name": "Python 3"
    },
    "language_info": {
      "name": "python"
    },
    "accelerator": "GPU"
  },
  "cells": [
    {
      "cell_type": "markdown",
      "source": [
        "#Instructions\n",
        "\n",
        "### Credit where credit is due\n",
        "This project uses the Auto 1111 SDK Python library. Give it some love on its [own Github page](https://github.com/Auto1111SDK/Auto1111SDK) or use its own [Google Colab demo](https://colab.research.google.com/drive/1SekiJ-mdB2V8ogWbyRyF_yDnoMuDGWTl#scrollTo=Eobx7Cy4zPkL).\n",
        "\n",
        "----\n",
        "\n",
        "**Important**\n",
        "If this is the first time you are using this Collab with models on your drive, follow the 'Models' step below.\n",
        "\n",
        "\n",
        "1. Click Play on Install Library. If Google Colab asks you to restart. Just do it through the popup.\n",
        "2. Press Play at Load Google Drive and accept everything. To connect your drive and model(s)\n",
        "3. Click Play on Load Project.\n",
        "\n",
        "Now everything is loaded and you can interact with the project in two ways\n",
        "1. Use only one prompt. You don't need to use a negative prompt here.\n",
        "2. Use one prompt and one negative prompt\n",
        "\n",
        "If you want to go one step further, I have also added the settings. The instructions from are still being added\n",
        "\n",
        "-----------"
      ],
      "metadata": {
        "id": "udmtWq22pDS8"
      }
    },
    {
      "cell_type": "markdown",
      "source": [
        "## Models (Do this the first time)\n",
        "\n",
        "Instead of downloading model every time and using Google's download speed and your precious time, we are going to place the model on our drive.\n",
        "\n",
        "Use your own directory path or follow the steps below\n",
        "\n",
        "1. Go to your [Google Drive](https://drive.google.com/drive/u/0/my-drive) and create a folder called AI\n",
        "\n",
        "2. Go to in this folder and create a folder called Models\n",
        "\n",
        "# Download and save model\n",
        "\n",
        "Before this we always download a model online and then we could use it. That takes 1) A lot of power for Google and 2) [Civitai](https://civitai.com/) has made it harder to download models.\n",
        "\n",
        "We are going to use our own. For now, that's [DreamShapers](https://civitai.com/models/4384/dreamshaper). In the future, I'm going to make sure you can easily download a model\n",
        "\n",
        "-----\n",
        "\n"
      ],
      "metadata": {
        "id": "GngQd2MleMcz"
      }
    },
    {
      "cell_type": "code",
      "execution_count": null,
      "metadata": {
        "cellView": "form",
        "id": "-ers0GSvoJ2a"
      },
      "outputs": [],
      "source": [
        "#@markdown ##**Install library**\n",
        "%%capture\n",
        "!pip install auto1111sdk --quiet\n"
      ]
    },
    {
      "cell_type": "code",
      "source": [
        "#@markdown ##**Load Google Drive**\n",
        "%%capture\n",
        "from google.colab import drive\n",
        "drive.mount('/content/drive')"
      ],
      "metadata": {
        "cellView": "form",
        "id": "u5NIxV1ttwvH"
      },
      "execution_count": null,
      "outputs": []
    },
    {
      "cell_type": "code",
      "source": [
        "#@markdown ##**Load Project**\n",
        "\n",
        "import os\n",
        "import sys\n",
        "from IPython.display import display, clear_output\n",
        "import requests\n",
        "import contextlib\n",
        "import io\n",
        "import torch\n",
        "import gc\n",
        "\n",
        "from auto1111sdk import civit_download, download_realesrgan, RealEsrganPipeline, StableDiffusionPipeline, EsrganPipeline\n",
        "from PIL import Image\n",
        "\n",
        "\n",
        "model_path = '/content/drive/MyDrive/AI/Models/dreamshaper.safetensors'\n",
        "prompt = ''\n",
        "negative_prompt = ''\n",
        "num_images=1\n",
        "height=768\n",
        "width=512\n",
        "steps=20\n",
        "output_path=\"/content/images/txt2img.png\"\n",
        "cfg_scale=7.5\n",
        "seed=-1\n",
        "sampler_name='Euler'\n",
        "\n",
        "def create_directory():\n",
        "  # Create dir for images\n",
        "  image_dir_path ='/content/images'\n",
        "  os.mkdir(image_dir_path)\n",
        "\n",
        "def clean_gpu():\n",
        "  # Delete unused variables\n",
        "  del_vars = [var for var in globals() if isinstance(var, torch.Tensor)]\n",
        "  for var in del_vars:\n",
        "      del var\n",
        "\n",
        "  # Empty the cache\n",
        "  torch.cuda.empty_cache()\n",
        "\n",
        "  # Run the garbage collector\n",
        "  gc.collect()\n",
        "\n",
        "def generate_image(prompt, negative_prompt):\n",
        "\n",
        "\n",
        "    # Create the pipeline\n",
        "    pipe = StableDiffusionPipeline(model_path)\n",
        "\n",
        "    # Generate the image\n",
        "    output = pipe.generate_txt2img(num_images=num_images, cfg_scale=cfg_scale,\n",
        "                                   sampler_name=sampler_name, seed=seed,\n",
        "                                   prompt=prompt, height=height, width=width,\n",
        "                                   negative_prompt=negative_prompt, steps=steps)\n",
        "\n",
        "    # Construct the output path\n",
        "    base_dir, filename = os.path.split(output_path)\n",
        "    base_filename, extension = os.path.splitext(filename)\n",
        "    counter = 0\n",
        "\n",
        "    # Save each generated image with a unique filename\n",
        "    for i in range(num_images):\n",
        "        counter = 0\n",
        "        new_output_path = os.path.join(base_dir, f\"{base_filename}{counter}{extension}\")\n",
        "\n",
        "        # While a file already exists at the output path, increment the counter and construct a new output path\n",
        "        while os.path.exists(new_output_path):\n",
        "            counter += 1\n",
        "            new_output_path = os.path.join(base_dir, f\"{base_filename}{counter}{extension}\")\n",
        "\n",
        "        # Save the generated image\n",
        "        output[i].save(new_output_path)\n",
        "\n",
        "        # # Display the generated image\n",
        "        # display(output[i])\n",
        "\n",
        "    # Cleanup - delete the pipeline\n",
        "    del pipe\n",
        "    return output\n",
        "\n",
        "def set_global_vars(num_images1, height1, width1, steps1, output_path1, cfg_scale1, seed1, sampler_name1, message):\n",
        "    global num_images, height, width, steps, output_path, cfg_scale, seed, sampler_name\n",
        "    num_images = num_images1\n",
        "    height = height1\n",
        "    width = width1\n",
        "    steps = steps1\n",
        "    output_path = output_path1\n",
        "    cfg_scale = cfg_scale1\n",
        "    seed = seed1\n",
        "    sampler_name = sampler_name1\n",
        "    print(message)\n",
        "\n",
        "def run_project(prompt, negative_prompt) :\n",
        "  clean_gpu()\n",
        "  output = generate_image(prompt, negative_prompt)\n",
        "  return output\n",
        "\n",
        "def display_image(output) :\n",
        "  for i in range(num_images):\n",
        "        counter = 0\n",
        "        # Display the generated image\n",
        "        display(output[i])\n",
        "\n",
        "# #Create\n",
        "create_directory()"
      ],
      "metadata": {
        "id": "cOfTztTGqeSF",
        "cellView": "form"
      },
      "execution_count": null,
      "outputs": []
    },
    {
      "cell_type": "markdown",
      "source": [
        "## Creating an image\n",
        "\n",
        "1. Select the desired option\n",
        "2. Select your prompt and negative prompt\n",
        "3. Click Play or use the shortcut (Ctrl + Enter)\n",
        "\n",
        "Your images will be in the Images folder of this project"
      ],
      "metadata": {
        "id": "GSu8Y67ZeCGO"
      }
    },
    {
      "cell_type": "code",
      "source": [
        "negative_prompt = \"lowres, text, error, cropped, worst quality, low quality, jpeg artifacts, ugly, duplicate, morbid, mutilated, out of frame, extra fingers, mutated hands, poorly drawn hands, poorly drawn face, mutation, deformed, blurry, dehydrated, bad anatomy, bad proportions, extra limbs, cloned face, disfigured, gross proportions, malformed limbs, missing arms, missing legs, extra arms, extra legs, fused fingers, too many fingers, long neck, username, watermark, signature\"\n",
        "\n",
        "#@markdown ##**Only Prompt**\n",
        "prompt = 'Portrait photo of muscular bearded guy in a worn mech suit, ((light bokeh)), intricate, (steel metal [rust]), elegant, sharp focus, photo by greg rutkowski, soft lighting, vibrant colors, (masterpiece), ((streets)), (detailed face:1.2), (glowing blue eyes:1.1)' #@param{type: 'string'}\n",
        "output = run_project(prompt, negative_prompt)\n",
        "display_image(output)\n",
        "\n",
        "#@markdown ------"
      ],
      "metadata": {
        "cellView": "form",
        "id": "LdzNBVHQvZvm"
      },
      "execution_count": null,
      "outputs": []
    },
    {
      "cell_type": "code",
      "source": [
        "#@markdown ##**Prompt and Negative Prompt**\n",
        "prompt = 'Portrait photo of muscular bearded guy in a worn mech suit, ((light bokeh)), intricate, (steel metal [rust]), elegant, sharp focus, photo by greg rutkowski, soft lighting, vibrant colors, (masterpiece), ((streets)), (detailed face:1.2), (glowing blue eyes:1.1)' #@param{type: 'string'}\n",
        "negative_prompt = 'BadDream, FastNegativeV2' #@param{type: 'string'}\n",
        "output = run_project(prompt, negative_prompt)\n",
        "display_image(output)\n",
        "#@markdown ------\n"
      ],
      "metadata": {
        "cellView": "form",
        "id": "WGon50zu-jQ9"
      },
      "execution_count": null,
      "outputs": []
    },
    {
      "cell_type": "markdown",
      "source": [
        "## Settings\n",
        "\n",
        "Work in progress"
      ],
      "metadata": {
        "id": "L1WtL_YJlC-y"
      }
    },
    {
      "cell_type": "code",
      "source": [
        "#@markdown ##**Change your settings**\n",
        "num_images = 1 #@param{type: 'number'}\n",
        "height = 768 #@param{type: 'number'}\n",
        "width = 512 #@param{type: 'number'}\n",
        "steps = 30 #@param{type: 'number'}\n",
        "file_name = \"image.png\" #@param{type: 'string'}\n",
        "cfg_scale = 7.5 #@param{type: 'number'}\n",
        "seed = -1 #@param{type: 'number'}\n",
        "sampler_name ='Euler a' #@param [\"Euler a\", \"Euler\", \"LMS\", \"Heun\", \"DPM2\", \"DPM2 a\", \"DPM++ 2S a\", \"DPM++ 2M\", \"DPM fast\", \"DPM adaptive\", \"LMS Karras\", \"DPM2 Karras\", \"DPM2 a Karras\", \"DPM++ 2S a Karras\", \"DPM++ 2M Karras\", \"DDIM\", \"PLMS\"]\n",
        "\n",
        "output_path = \"/content/images/\" + file_name\n",
        "message = \"Settings Succesfully changed\"\n",
        "\n",
        "set_global_vars(num_images, height, width, steps, output_path, cfg_scale, seed, sampler_name, message)\n"
      ],
      "metadata": {
        "colab": {
          "base_uri": "https://localhost:8080/"
        },
        "cellView": "form",
        "id": "9IAzrMLx_OYo",
        "outputId": "c7178092-f71a-4181-d9c7-9f7a4ec605d1"
      },
      "execution_count": null,
      "outputs": [
        {
          "output_type": "stream",
          "name": "stdout",
          "text": [
            "Settings Succesfully changed\n"
          ]
        }
      ]
    },
    {
      "cell_type": "code",
      "source": [
        "#@markdown ##**Reset your settings**\n",
        "num_images=1\n",
        "height=768\n",
        "width=512\n",
        "steps=20\n",
        "output_path=\"/content/images/txt2img.png\"\n",
        "cfg_scale=7.5\n",
        "seed=-1\n",
        "sampler_name='Euler'\n",
        "\n",
        "message = \"Reset the setting to original\"\n",
        "set_global_vars(num_images, height, width, steps, output_path, cfg_scale, seed, sampler_name, message)\n"
      ],
      "metadata": {
        "colab": {
          "base_uri": "https://localhost:8080/"
        },
        "cellView": "form",
        "id": "qD5RQvyRAWAl",
        "outputId": "0d95fe90-0c78-4c35-8a93-13c04dbc691f"
      },
      "execution_count": null,
      "outputs": [
        {
          "output_type": "stream",
          "name": "stdout",
          "text": [
            "Reset the setting to original\n"
          ]
        }
      ]
    }
  ]
}