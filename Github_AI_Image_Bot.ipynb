{
  "nbformat": 4,
  "nbformat_minor": 0,
  "metadata": {
    "colab": {
      "provenance": [],
      "gpuType": "T4",
      "authorship_tag": "ABX9TyPb9VzJZRid9htGZY6lwfGa"
    },
    "kernelspec": {
      "name": "python3",
      "display_name": "Python 3"
    },
    "language_info": {
      "name": "python"
    },
    "accelerator": "GPU"
  },
  "cells": [
    {
      "cell_type": "markdown",
      "source": [
        "## Bot is still working in Progress\n",
        "\n"
      ],
      "metadata": {
        "id": "jmzAAY0ZqPSI"
      }
    },
    {
      "cell_type": "code",
      "source": [
        "from google.colab import drive\n",
        "drive.mount('/content/drive')"
      ],
      "metadata": {
        "id": "ffvznPzC1H9c"
      },
      "execution_count": null,
      "outputs": []
    },
    {
      "cell_type": "code",
      "execution_count": null,
      "metadata": {
        "id": "R4lAUevZyn5u"
      },
      "outputs": [],
      "source": [
        "#@markdown ##**Install library**\n",
        "!pip install auto1111sdk"
      ]
    },
    {
      "cell_type": "code",
      "source": [
        "#Create Enviroment for project\n",
        "\n",
        "import shutil\n",
        "import gc\n",
        "\n",
        "import os\n",
        "import sys\n",
        "from IPython.display import display, HTML\n",
        "import ipywidgets as widgets\n",
        "import requests\n",
        "from io import BytesIO\n",
        "\n",
        "from auto1111sdk import civit_download, download_realesrgan, RealEsrganPipeline, StableDiffusionPipeline, EsrganPipeline\n",
        "from PIL import Image\n",
        "import torch\n",
        "\n"
      ],
      "metadata": {
        "id": "ryIDzFV037Eb"
      },
      "execution_count": null,
      "outputs": []
    },
    {
      "cell_type": "code",
      "source": [
        "def get_model():\n",
        "  # Specify the path of the file in Google Drive\n",
        "  drive_path = \"/content/drive/MyDrive/AI/Models/dreamshaper.safetensors\"\n",
        "\n",
        "  # Specify the destination path in Colab\n",
        "  model_path = 'models/dreamshaper.safetensors'  # You can change the filename or path if needed\n",
        "\n",
        "  # Copy the file from Google Drive to Colab\n",
        "  shutil.copy(drive_path, model_path)\n",
        "\n",
        "def create_dir():\n",
        "  # Create dir for images\n",
        "  image_dir_path ='/content/images'\n",
        "  model_dir_path ='/content/models'\n",
        "  os.mkdir(image_dir_path)\n",
        "  os.mkdir(model_dir_path)\n",
        "\n",
        "\n",
        "def clean_gpu():\n",
        "  # Delete unused variables\n",
        "  del_vars = [var for var in globals() if isinstance(var, torch.Tensor)]\n",
        "  for var in del_vars:\n",
        "      del var\n",
        "\n",
        "  # Empty the cache\n",
        "  torch.cuda.empty_cache()\n",
        "\n",
        "  # Run the garbage collector\n",
        "  gc.collect()\n",
        "\n",
        "# Download Model\n",
        "create_dir()\n",
        "# get_model()"
      ],
      "metadata": {
        "id": "5oC73Vc73Yuo"
      },
      "execution_count": null,
      "outputs": []
    },
    {
      "cell_type": "markdown",
      "source": [
        "Function for generation"
      ],
      "metadata": {
        "id": "v6JPEOXL9PiD"
      }
    },
    {
      "cell_type": "code",
      "source": [
        "def generate_image(prompt, negative_prompt, num_images=1, height=768, width=512, steps=20,\n",
        "                   output_path=\"/content/images/txt2img.png\", cfg_scale=7.5, seed=-1, sampler_name='Euler'):\n",
        "\n",
        "\n",
        "    # Create the pipeline\n",
        "    print(model_path)\n",
        "    pipe = StableDiffusionPipeline(model_path)\n",
        "\n",
        "    # Generate the image\n",
        "    output = pipe.generate_txt2img(num_images=num_images, cfg_scale=cfg_scale,\n",
        "                                   sampler_name=sampler_name, seed=seed,\n",
        "                                   prompt=prompt, height=height, width=width,\n",
        "                                   negative_prompt=negative_prompt, steps=steps)\n",
        "\n",
        "    # Construct the output path\n",
        "    base_dir, filename = os.path.split(output_path)\n",
        "    base_filename, extension = os.path.splitext(filename)\n",
        "    counter = 0\n",
        "\n",
        "    # Save each generated image with a unique filename\n",
        "    for i in range(num_images):\n",
        "        counter = 0\n",
        "        output_path = os.path.join(base_dir, f\"{base_filename}{counter}{extension}\")\n",
        "\n",
        "        # While a file already exists at the output path, increment the counter and construct a new output path\n",
        "        while os.path.exists(output_path):\n",
        "            counter += 1\n",
        "            output_path = os.path.join(base_dir, f\"{base_filename}{counter}{extension}\")\n",
        "\n",
        "        # Save the generated image\n",
        "        output[i].save(output_path)\n",
        "\n",
        "        # Display the generated image\n",
        "        display(output[i])\n",
        "\n",
        "    # Cleanup - delete the pipeline\n",
        "    del pipe\n",
        "\n"
      ],
      "metadata": {
        "id": "kYgB4ss-8y8b"
      },
      "execution_count": null,
      "outputs": []
    },
    {
      "cell_type": "markdown",
      "source": [
        "Helper Function"
      ],
      "metadata": {
        "id": "ehWKeZ4F-2Vr"
      }
    },
    {
      "cell_type": "code",
      "source": [
        "#Start up project\n",
        "# model_path = 'dreamshaper.safetensors'\n",
        "model_path = '/content/drive/MyDrive/AI/Models/dreamshaper.safetensors'\n",
        "prompt = ''\n",
        "negative_prompt = ''\n",
        "num_images=1\n",
        "height=768\n",
        "width=512\n",
        "steps=20\n",
        "output_path=\"/content/images/txt2img.png\"\n",
        "cfg_scale=7.5\n",
        "seed=-1\n",
        "sampler_name='Euler'\n",
        "easy_mode = True\n",
        "generate_direct = False\n",
        "model = \"\"\n",
        "\n",
        "#Create the field\n",
        "def create_input_field(description, placeholder):\n",
        "    return widgets.Text(\n",
        "        value='',\n",
        "        placeholder=placeholder,\n",
        "        description='',\n",
        "        layout=widgets.Layout(width=\"500px\")\n",
        "    )\n",
        "\n",
        "# Now for model path\n",
        "def change_model(keyword) :\n",
        "  global model_path\n",
        "  if keyword.lower() == 'dream' :\n",
        "    print(\"Loading Dream Model\")\n",
        "    model_path = \"/content/drive/MyDrive/AI/Models/dreamshaper.safetensors\"\n",
        "  elif keyword.lower() == 'cartoon' :\n",
        "    print(\"Loading Cartoon Model\")\n",
        "    model_path = \"/content/drive/MyDrive/AI/Models/realcartoon3d.safetensors\"\n",
        "  else:\n",
        "    print(\"Model Not Found, Use active model\")\n",
        "\n",
        "## COMMANDS\n",
        "# Define the test_prompt function\n",
        "def test_prompt():\n",
        "    print(\"Using test prompt\")\n",
        "    prompt = \"closeup portrait photo of beautiful 20 y.o man, 8k uhd, high quality, dramatic, cinematic\"\n",
        "    negative_prompt = \"(deformed iris, deformed pupils, semi-realistic, cgi, 3d, render, sketch, cartoon, drawing, anime), text, cropped, out of frame, worst quality, low quality, jpeg artifacts, duplicate, morbid, mutilated, extra fingers, mutated hands, poorly drawn hands, poorly drawn face, mutation, deformed, blurry, dehydrated, bad anatomy, bad proportions, extra limbs, cloned face, disfigured, gross proportions, malformed limbs, missing arms, missing legs, extra arms, extra legs, fused fingers, too many fingers, long neck\"\n",
        "    return prompt, negative_prompt\n",
        "\n",
        "def template_negative_prompt(keyword) :\n",
        "  negative_prompt = \"\"\n",
        "  if keyword.lower() == 'person':\n",
        "    negative_prompt = \"(deformed iris, deformed pupils, semi-realistic, cgi, 3d, render, sketch, cartoon, drawing, anime), text, cropped, out of frame, worst quality, low quality, jpeg artifacts, duplicate, morbid, mutilated, extra fingers, mutated hands, poorly drawn hands, poorly drawn face, mutation, deformed, blurry, dehydrated, bad anatomy, bad proportions, extra limbs, cloned face, disfigured, gross proportions, malformed limbs, missing arms, missing legs, extra arms, extra legs, fused fingers, too many fingers, long neck\"\n",
        "  if keyword.lower() == 'anime':\n",
        "     negative_promp = \",(worst quality:2),(low quality:2),(normal quality:2),lowres,bad anatomy,bad hands,normal quality,((watermark)),5-funny-looking-fingers:2,\"\n",
        "  return negative_prompt\n",
        "\n",
        "def command_function(command):\n",
        "    print(\"COMMAND\")\n",
        "    generate_direct = False\n",
        "    if command.lower().startswith('test'):\n",
        "        generate_direct = True\n",
        "        prompt, negative_prompt = test_prompt()\n",
        "    elif command.lower().startswith('model '):\n",
        "        model = command.split()[-1]\n",
        "        print(model)\n",
        "        change_model(model)\n",
        "        generate_direct = True\n",
        "        prompt, negative_prompt = test_prompt()\n",
        "    else:\n",
        "        prompt = \"closeup portrait photo of beautiful 20 y.o man, 8k uhd, high quality, dramatic, cinematic\"\n",
        "        negative_prompt = \"\"\n",
        "    return prompt, negative_prompt, generate_direct\n"
      ],
      "metadata": {
        "id": "1NTNpY1S-tSL"
      },
      "execution_count": null,
      "outputs": []
    },
    {
      "cell_type": "code",
      "source": [
        "def bot():\n",
        "    clean_gpu()\n",
        "    prompt = \"\"\n",
        "    negative_prompt = \"\"\n",
        "    generate_direct = False\n",
        "    if easy_mode:\n",
        "      print(\"EASY MODE\")\n",
        "      # change_model('dir')\n",
        "      prompt_input = create_input_field('', 'Enter the prompt:')\n",
        "      display(prompt_input)\n",
        "      negative_prompt_input = create_input_field('', 'Enter the negative prompt:')\n",
        "\n",
        "      def on_enter_prompt(prompt_input, negative_prompt_input):\n",
        "        nonlocal prompt\n",
        "        nonlocal generate_direct\n",
        "        prompt = prompt_input.value\n",
        "        if prompt.lower().startswith('cmd '):\n",
        "            command = ' '.join(prompt.split()[1:])\n",
        "            prompt, negative_prompt, generate_direct = command_function(command)\n",
        "            if generate_direct:\n",
        "                generate_image(prompt, negative_prompt)\n",
        "        if not generate_direct:\n",
        "            display(negative_prompt_input)\n",
        "\n",
        "      def on_enter_negative_prompt(negative_prompt_input):\n",
        "          nonlocal prompt, negative_prompt\n",
        "          negative_prompt = negative_prompt_input.value\n",
        "          if negative_prompt.lower() in ['person', 'anime']:\n",
        "              negative_prompt = template_negative_prompt(negative_prompt)\n",
        "          generate_image(prompt, negative_prompt)\n",
        "\n",
        "\n",
        "      prompt_input.on_submit(lambda _: on_enter_prompt(prompt_input, negative_prompt_input))\n",
        "      negative_prompt_input.on_submit(lambda _: on_enter_negative_prompt(negative_prompt_input))\n"
      ],
      "metadata": {
        "id": "aeml6TM9fSGK"
      },
      "execution_count": null,
      "outputs": []
    },
    {
      "cell_type": "code",
      "source": [
        "# Run the bot\n",
        "bot()"
      ],
      "metadata": {
        "id": "w5WfnEDH3upa"
      },
      "execution_count": null,
      "outputs": []
    }
  ]
}